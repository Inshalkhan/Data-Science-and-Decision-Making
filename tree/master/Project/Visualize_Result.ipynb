{
  "nbformat": 4,
  "nbformat_minor": 0,
  "metadata": {
    "colab": {
      "name": "Visualize Result.ipynb",
      "provenance": [],
      "authorship_tag": "ABX9TyNRnUjnp+NMMCHRBzmCOCql",
      "include_colab_link": true
    },
    "kernelspec": {
      "name": "python3",
      "display_name": "Python 3"
    }
  },
  "cells": [
    {
      "cell_type": "markdown",
      "metadata": {
        "id": "view-in-github",
        "colab_type": "text"
      },
      "source": [
        "<a href=\"https://colab.research.google.com/github/Inshalkhan/Data-Science-and-Decision-Making/blob/master/tree/master/Project/Visualize_Result.ipynb\" target=\"_parent\"><img src=\"https://colab.research.google.com/assets/colab-badge.svg\" alt=\"Open In Colab\"/></a>"
      ]
    },
    {
      "cell_type": "code",
      "metadata": {
        "id": "4TkhojALaiMe",
        "colab_type": "code",
        "colab": {}
      },
      "source": [
        "#Importing Libraries\n",
        "import matplotlib.pyplot as plt\n",
        "import numpy as np"
      ],
      "execution_count": 0,
      "outputs": []
    },
    {
      "cell_type": "code",
      "metadata": {
        "id": "HzdIh96Fan8A",
        "colab_type": "code",
        "colab": {}
      },
      "source": [
        "#Creating value vectors\n",
        "MCTS = [21, 19, 21, 14, 24, 19, 24, 16, 15, 20]\n",
        "Hybrid = [0, 1, 2, 5, 0, 0, 6, 0, 1, 2]\n",
        "DRAW = [79, 80, 77, 81, 76, 81, 70, 84, 84, 78]"
      ],
      "execution_count": 0,
      "outputs": []
    },
    {
      "cell_type": "code",
      "metadata": {
        "id": "HZU3xlllapZ6",
        "colab_type": "code",
        "colab": {
          "base_uri": "https://localhost:8080/",
          "height": 336
        },
        "outputId": "26fc3925-d4de-4725-cbf1-1147e1ff0bbf"
      },
      "source": [
        "#Graph configuration\n",
        "n_groups = 10\n",
        "# create plot\n",
        "fig, ax = plt.subplots()\n",
        "index = np.arange(n_groups)\n",
        "bar_width = 0.30\n",
        "opacity = 0.9\n",
        "\n",
        "r1 = plt.bar(index, MCTS, bar_width, alpha = opacity, color = 'g', label = 'MCTS')\n",
        "r2 = plt.bar(index + bar_width, Hybrid, bar_width, alpha = opacity, color = 'r', label = 'HYBRID')\n",
        "r3 = plt.bar(index + bar_width + bar_width, DRAW, bar_width, alpha = opacity, color = 'y', label = 'DRAW')\n",
        "#Plotting\n",
        "plt.title('Performance Comparison')\n",
        "plt.xticks(index + bar_width, ('Iteration 1', 'Iteration 2', 'Iteration 3', 'Iteration 4', 'Iteration 5', 'Iteration 6', 'Iteration 7', 'Iteration 8', 'Iteration 9', 'Iteration 10'), rotation = 45)\n",
        "plt.legend()"
      ],
      "execution_count": 5,
      "outputs": [
        {
          "output_type": "execute_result",
          "data": {
            "text/plain": [
              "<matplotlib.legend.Legend at 0x7f9073f41cf8>"
            ]
          },
          "metadata": {
            "tags": []
          },
          "execution_count": 5
        },
        {
          "output_type": "display_data",
          "data": {
            "image/png": "[encoded data removed]",
            "text/plain": [
              "<Figure size 432x288 with 1 Axes>"
            ]
          },
          "metadata": {
            "tags": [],
            "needs_background": "light"
          }
        }
      ]
    }
  ]
}