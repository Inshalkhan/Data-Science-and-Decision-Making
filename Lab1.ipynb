{
  "nbformat": 4,
  "nbformat_minor": 0,
  "metadata": {
    "colab": {
      "name": "Lab1",
      "provenance": [],
      "authorship_tag": "ABX9TyPoDDXfvGUzeIRsuk3Hg7NL",
      "include_colab_link": true
    },
    "kernelspec": {
      "name": "python3",
      "display_name": "Python 3"
    }
  },
  "cells": [
    {
      "cell_type": "markdown",
      "metadata": {
        "id": "view-in-github",
        "colab_type": "text"
      },
      "source": [
        "<a href=\"https://colab.research.google.com/github/Inshalkhan/Data-Science-and-Decision-Making/blob/master/Lab1.ipynb\" target=\"_parent\"><img src=\"https://colab.research.google.com/assets/colab-badge.svg\" alt=\"Open In Colab\"/></a>"
      ]
    },
    {
      "cell_type": "markdown",
      "metadata": {
        "id": "0Cokr3Xu3lqi",
        "colab_type": "text"
      },
      "source": [
        "# **Lab 1: Scientific programming in Python**"
      ]
    },
    {
      "cell_type": "markdown",
      "metadata": {
        "id": "wsC7zqju3u9c",
        "colab_type": "text"
      },
      "source": [
        "**1. Create a (4x2) integer and print its attributes**"
      ]
    },
    {
      "cell_type": "code",
      "metadata": {
        "id": "_BETqxWF4TRH",
        "colab_type": "code",
        "outputId": "e2f08c56-e9ec-4859-b1c1-0a65ceb68272",
        "colab": {
          "base_uri": "https://localhost:8080/",
          "height": 170
        }
      },
      "source": [
        "import numpy as np\n",
        "\n",
        "# 4 x 2 array creation\n",
        "a = np.random.random((4,2))\n",
        "print(a)\n",
        "\n",
        "# dimensionality of the array\n",
        "print(\"Dimesnions\",a.ndim)\n",
        "\n",
        "# shape of the array\n",
        "print(\"Shape\",a.shape)\n",
        "\n",
        "# size of the array: the number of elements it stores\n",
        "print(\"Size\",a.size)\n",
        "\n",
        "# checking data type\n",
        "print(\"Data Type\",a.dtype)\n",
        "\n",
        "# checking size of memory\n",
        "print(\"Item Size\",a.itemsize)"
      ],
      "execution_count": 3,
      "outputs": [
        {
          "output_type": "stream",
          "text": [
            "[[0.76640902 0.25580385]\n",
            " [0.93914765 0.75824194]\n",
            " [0.04553659 0.70878729]\n",
            " [0.1336279  0.26898539]]\n",
            "Dimesnions 2\n",
            "Shape (4, 2)\n",
            "Size 8\n",
            "Data Type float64\n",
            "Item Size 8\n"
          ],
          "name": "stdout"
        }
      ]
    },
    {
      "cell_type": "markdown",
      "metadata": {
        "id": "Oo0ZwPqh6wEF",
        "colab_type": "text"
      },
      "source": [
        "**2. Create an array of dimension (1,10) and sort it in ascending and descending order**"
      ]
    },
    {
      "cell_type": "code",
      "metadata": {
        "id": "8Jzx8RUg60lb",
        "colab_type": "code",
        "outputId": "3d295985-b0cd-4159-b12f-2cc94af5ed0a",
        "colab": {
          "base_uri": "https://localhost:8080/",
          "height": 51
        }
      },
      "source": [
        "# 1 x 10 array creation\n",
        "numbers = [1, 3, 4, 2, 4, 0, 1, 3, 9, 7] \n",
        "numbers.sort() \n",
        "  \n",
        "print(\"Ascending\",numbers) \n",
        "\n",
        "numbers.sort(reverse = True)\n",
        "print(\"Descending\",numbers) "
      ],
      "execution_count": 0,
      "outputs": [
        {
          "output_type": "stream",
          "text": [
            "Ascending [0, 1, 1, 2, 3, 3, 4, 4, 7, 9]\n",
            "Descending [9, 7, 4, 4, 3, 3, 2, 1, 1, 0]\n"
          ],
          "name": "stdout"
        }
      ]
    },
    {
      "cell_type": "markdown",
      "metadata": {
        "id": "5tmuDj1z7sGX",
        "colab_type": "text"
      },
      "source": [
        "**3. Convert an 1D array [1 2 3 4 5 6 7 8 9] to 2D array [[1 2 3], [4 5 6], [7 8 9]]**"
      ]
    },
    {
      "cell_type": "code",
      "metadata": {
        "id": "O2G7Fya67wV1",
        "colab_type": "code",
        "outputId": "a4cb26a9-41bb-414a-8bf6-1842b5464156",
        "colab": {
          "base_uri": "https://localhost:8080/",
          "height": 68
        }
      },
      "source": [
        "array = [1, 2, 3, 4, 5, 6, 7, 8, 9] \n",
        "array = np.reshape(array,(3, 3))\n",
        "\n",
        "print(array)"
      ],
      "execution_count": 0,
      "outputs": [
        {
          "output_type": "stream",
          "text": [
            "[[1 2 3]\n",
            " [4 5 6]\n",
            " [7 8 9]]\n"
          ],
          "name": "stdout"
        }
      ]
    },
    {
      "cell_type": "markdown",
      "metadata": {
        "id": "lXYHlshi9E2r",
        "colab_type": "text"
      },
      "source": [
        "**4. Stack two arrays of any size horizontally and vertically**"
      ]
    },
    {
      "cell_type": "code",
      "metadata": {
        "id": "6aOCQj7l9MYa",
        "colab_type": "code",
        "outputId": "5e71101c-f362-45af-a802-b269c4b19572",
        "colab": {
          "base_uri": "https://localhost:8080/",
          "height": 136
        }
      },
      "source": [
        "a = [[1, 2, 3],[4,5,6]]\n",
        "b = [[0, 9, 3], [1, 4, 9]]\n",
        "\n",
        "hstack = np.hstack((a, b)) \n",
        "print(\"Horizontal:\",hstack)\n",
        "print(\"\")\n",
        "vstack = np.vstack((a, b)) \n",
        "print(\"Vertical:\",vstack)"
      ],
      "execution_count": 0,
      "outputs": [
        {
          "output_type": "stream",
          "text": [
            "Horizontal: [[1 2 3 0 9 3]\n",
            " [4 5 6 1 4 9]]\n",
            "\n",
            "Vertical: [[1 2 3]\n",
            " [4 5 6]\n",
            " [0 9 3]\n",
            " [1 4 9]]\n"
          ],
          "name": "stdout"
        }
      ]
    },
    {
      "cell_type": "markdown",
      "metadata": {
        "id": "4__MMDh2-Z4H",
        "colab_type": "text"
      },
      "source": [
        "**5. Create two array of same size and find commom elements**"
      ]
    },
    {
      "cell_type": "code",
      "metadata": {
        "id": "AYpG_kU3-f61",
        "colab_type": "code",
        "outputId": "3f8a7066-4615-4109-a687-1965d7616337",
        "colab": {
          "base_uri": "https://localhost:8080/",
          "height": 34
        }
      },
      "source": [
        "a= [1, 2, 3]\n",
        "b= [2, 5 , 9]\n",
        "\n",
        "def common(a, b): \n",
        "    a_set = set(a) \n",
        "    b_set = set(b) \n",
        "    if (a_set & b_set): \n",
        "        print(a_set & b_set) \n",
        "    else: \n",
        "        print(\"No common elements\")\n",
        "\n",
        "common(a,b)"
      ],
      "execution_count": 0,
      "outputs": [
        {
          "output_type": "stream",
          "text": [
            "{2}\n"
          ],
          "name": "stdout"
        }
      ]
    },
    {
      "cell_type": "markdown",
      "metadata": {
        "id": "Fi02n3qm_Nav",
        "colab_type": "text"
      },
      "source": [
        "**6. Create a 2D array of 5 by 5 and find the min and max values from each row and each column**"
      ]
    },
    {
      "cell_type": "code",
      "metadata": {
        "id": "4H45cd0j_S5f",
        "colab_type": "code",
        "outputId": "1cf76ea0-4179-4c39-c985-e5899f8eb641",
        "colab": {
          "base_uri": "https://localhost:8080/",
          "height": 442
        }
      },
      "source": [
        "import pandas as pd\n",
        "\n",
        "matrix = [(22, 16, 23),\n",
        "          (33, 7, 11),\n",
        "          (44, 34, 11),\n",
        "          (55, 35, 10),\n",
        "          (66, 36, 13)]\n",
        " \n",
        "# Create a DataFrame object\n",
        "dfObj = pd.DataFrame(matrix, index=list('abcde'), columns=list('xyz'))\n",
        "\n",
        "print (matrix)\n",
        "\n",
        "# Get a series containing maximum value of each column\n",
        "maxValuesObj = dfObj.max()\n",
        " \n",
        "print('Maximum value in each column : ')\n",
        "print(maxValuesObj)\n",
        "\n",
        "# Get a series containing maximum value of each row\n",
        "maxValuesObj = dfObj.max(axis=1)\n",
        "print('Maximum value in each row : ')\n",
        "print(maxValuesObj)\n",
        "\n",
        "\n",
        "# Get a series containing minimum value of each column\n",
        "minValuesObj = dfObj.min()\n",
        " \n",
        "print('minimum value in each column : ')\n",
        "print(minValuesObj)\n",
        "\n",
        "# Get a series containing minimum value of each row\n",
        "minValuesObj = dfObj.min(axis=1)\n",
        "print('minimum value in each row : ')\n",
        "print(minValuesObj)"
      ],
      "execution_count": 0,
      "outputs": [
        {
          "output_type": "stream",
          "text": [
            "[(22, 16, 23), (33, 7, 11), (44, 34, 11), (55, 35, 10), (66, 36, 13)]\n",
            "Maximum value in each column : \n",
            "x    66\n",
            "y    36\n",
            "z    23\n",
            "dtype: int64\n",
            "Maximum value in each row : \n",
            "a    23\n",
            "b    33\n",
            "c    44\n",
            "d    55\n",
            "e    66\n",
            "dtype: int64\n",
            "minimum value in each column : \n",
            "x    22\n",
            "y     7\n",
            "z    10\n",
            "dtype: int64\n",
            "minimum value in each row : \n",
            "a    16\n",
            "b     7\n",
            "c    11\n",
            "d    10\n",
            "e    13\n",
            "dtype: int64\n"
          ],
          "name": "stdout"
        }
      ]
    },
    {
      "cell_type": "markdown",
      "metadata": {
        "id": "AdpgH5kQB7cN",
        "colab_type": "text"
      },
      "source": [
        "**7. Create an array of size 100 and compute the mean, median, standard deviation.**"
      ]
    },
    {
      "cell_type": "code",
      "metadata": {
        "id": "RSXunv7lB-az",
        "colab_type": "code",
        "outputId": "fe1f6382-23ad-4066-b003-84993cdbe194",
        "colab": {
          "base_uri": "https://localhost:8080/",
          "height": 374
        }
      },
      "source": [
        "a = np.random.random(100)\n",
        "print(a)\n",
        "print(\"\")\n",
        "print(\"Mean\",np.mean(a))\n",
        "print(\"Median\",np.median(a))\n",
        "print(\"Standard Deviation\",np.std(a))"
      ],
      "execution_count": 0,
      "outputs": [
        {
          "output_type": "stream",
          "text": [
            "[0.78799965 0.67957998 0.01292263 0.08327625 0.66355915 0.83515609\n",
            " 0.40217472 0.89043465 0.84614606 0.89992145 0.59496529 0.37067276\n",
            " 0.29149652 0.81286327 0.87970851 0.30420872 0.28155424 0.39963051\n",
            " 0.96686981 0.22723512 0.85616314 0.89475942 0.68036233 0.42645847\n",
            " 0.34776082 0.01769436 0.28290175 0.97600262 0.76506105 0.12808244\n",
            " 0.00505258 0.9600034  0.64785617 0.44070191 0.44557786 0.52627905\n",
            " 0.11045828 0.21435609 0.2692028  0.07726461 0.49298217 0.39969245\n",
            " 0.75661075 0.27206824 0.16491991 0.0763311  0.05929092 0.35030493\n",
            " 0.55075896 0.56047421 0.58830108 0.87362755 0.96883695 0.59893893\n",
            " 0.83855678 0.22346907 0.88925543 0.29177163 0.15028542 0.13786493\n",
            " 0.43325801 0.43231698 0.45689031 0.07221818 0.27242403 0.75220314\n",
            " 0.07142671 0.69773678 0.99051541 0.35508453 0.26303844 0.51337372\n",
            " 0.61653483 0.19558303 0.72382413 0.24837542 0.50427978 0.66961214\n",
            " 0.31386992 0.22974314 0.42266514 0.76233357 0.62374077 0.56685128\n",
            " 0.47475517 0.86776159 0.49053534 0.48157714 0.97459667 0.97550831\n",
            " 0.647214   0.71068219 0.78594044 0.29436908 0.72205637 0.84354478\n",
            " 0.96776896 0.77479806 0.44498404 0.27936977]\n",
            "\n",
            "Mean 0.514700772177639\n",
            "Median 0.4917587552179821\n",
            "Standard Deviation 0.28364634528732935\n"
          ],
          "name": "stdout"
        }
      ]
    },
    {
      "cell_type": "markdown",
      "metadata": {
        "id": "hxtB-TuwCiDV",
        "colab_type": "text"
      },
      "source": [
        "**8. Normalize a 5x5 random matrix**"
      ]
    },
    {
      "cell_type": "code",
      "metadata": {
        "id": "olOwv8oUC357",
        "colab_type": "code",
        "outputId": "134b08e9-182a-4b9d-ae4a-e769adb3ea16",
        "colab": {
          "base_uri": "https://localhost:8080/",
          "height": 119
        }
      },
      "source": [
        " array = [(22, 16, 23),\n",
        "          (33, 7, 11),\n",
        "          (44, 34, 11),\n",
        "          (55, 35, 10),\n",
        "          (66, 36, 13)]\n",
        " \n",
        " array = array - np.mean(array)\n",
        "array = array / np.max(array)\n",
        "\n",
        "print(\"Normalized Array\")\n",
        "print(array)"
      ],
      "execution_count": 0,
      "outputs": [
        {
          "output_type": "stream",
          "text": [
            "Normalized Array\n",
            "[[-0.14982578 -0.30662021 -0.12369338]\n",
            " [ 0.13763066 -0.54181185 -0.43728223]\n",
            " [ 0.42508711  0.16376307 -0.43728223]\n",
            " [ 0.71254355  0.18989547 -0.46341463]\n",
            " [ 1.          0.21602787 -0.38501742]]\n"
          ],
          "name": "stdout"
        }
      ]
    },
    {
      "cell_type": "markdown",
      "metadata": {
        "id": "goRViJDQDvil",
        "colab_type": "text"
      },
      "source": [
        "**9. Consider an array of dimension (4,4,3), how to mulitply it by an array with dimensions (4,4)?**"
      ]
    },
    {
      "cell_type": "code",
      "metadata": {
        "id": "0OrmC_8aD0ez",
        "colab_type": "code",
        "outputId": "e3ed10df-7bba-422c-eb98-3956572adfce",
        "colab": {
          "base_uri": "https://localhost:8080/",
          "height": 816
        }
      },
      "source": [
        "a = np.random.random((4,4,3))\n",
        "b = np.random.random((4,4))\n",
        "\n",
        "print(\"Array A\")\n",
        "print(a)\n",
        "print(\"\")\n",
        "print(\"Array B\")\n",
        "print(b)\n",
        "print(\"\")\n",
        "arr= a*b [:,:,None]\n",
        "print(\"Multiply\")\n",
        "print(arr)"
      ],
      "execution_count": 5,
      "outputs": [
        {
          "output_type": "stream",
          "text": [
            "Array A\n",
            "[[[0.33179349 0.27054036 0.2278129 ]\n",
            "  [0.0191643  0.36445511 0.39797839]\n",
            "  [0.7629509  0.40941598 0.55055781]\n",
            "  [0.19090218 0.21593697 0.8113678 ]]\n",
            "\n",
            " [[0.72542029 0.41578756 0.98559174]\n",
            "  [0.33898347 0.13503011 0.19821201]\n",
            "  [0.4387056  0.8537681  0.38203383]\n",
            "  [0.84290262 0.23706329 0.73284064]]\n",
            "\n",
            " [[0.63828738 0.12005512 0.48472993]\n",
            "  [0.81253984 0.68276802 0.67312574]\n",
            "  [0.3968782  0.75910619 0.01867433]\n",
            "  [0.31481399 0.03987561 0.2773853 ]]\n",
            "\n",
            " [[0.89018823 0.70190368 0.76712196]\n",
            "  [0.56056046 0.33257615 0.51402316]\n",
            "  [0.94772762 0.8770054  0.72952869]\n",
            "  [0.948254   0.6248955  0.95406037]]]\n",
            "\n",
            "Array B\n",
            "[[0.6916081  0.89347378 0.13578603 0.69424505]\n",
            " [0.81449459 0.28246454 0.36771394 0.81854331]\n",
            " [0.15649803 0.26120062 0.57245169 0.54500008]\n",
            " [0.59964484 0.66294502 0.1406322  0.74557859]]\n",
            "\n",
            "Multiply\n",
            "[[[0.22947107 0.1871079  0.15755725]\n",
            "  [0.0171228  0.32563109 0.35558325]\n",
            "  [0.10359808 0.05559297 0.07475806]\n",
            "  [0.13253289 0.14991317 0.56328808]]\n",
            "\n",
            " [[0.59085091 0.33865672 0.80275914]\n",
            "  [0.09575081 0.03814122 0.05598786]\n",
            "  [0.16131816 0.31394243 0.14047916]\n",
            "  [0.6899523  0.19404657 0.5998618 ]]\n",
            "\n",
            " [[0.09989072 0.01878839 0.07585928]\n",
            "  [0.21223591 0.17833943 0.17582086]\n",
            "  [0.2271936  0.43455162 0.01069015]\n",
            "  [0.17157365 0.02173221 0.15117501]]\n",
            "\n",
            " [[0.53379678 0.42089292 0.46000073]\n",
            "  [0.37162077 0.22047971 0.3407691 ]\n",
            "  [0.13328102 0.1233352  0.10259522]\n",
            "  [0.70699789 0.46590871 0.71132699]]]\n"
          ],
          "name": "stdout"
        }
      ]
    }
  ]
}