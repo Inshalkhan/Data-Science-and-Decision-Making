{
  "nbformat": 4,
  "nbformat_minor": 0,
  "metadata": {
    "colab": {
      "name": "Lab_7_Exercise_2.ipynb",
      "provenance": [],
      "include_colab_link": true
    },
    "kernelspec": {
      "name": "python3",
      "display_name": "Python 3"
    },
    "accelerator": "GPU"
  },
  "cells": [
    {
      "cell_type": "markdown",
      "metadata": {
        "id": "view-in-github",
        "colab_type": "text"
      },
      "source": [
        "<a href=\"https://colab.research.google.com/github/Inshalkhan/Data-Science-and-Decision-Making/blob/master/Lab_7_Exercise_2.ipynb\" target=\"_parent\"><img src=\"https://colab.research.google.com/assets/colab-badge.svg\" alt=\"Open In Colab\"/></a>"
      ]
    },
    {
      "cell_type": "markdown",
      "metadata": {
        "id": "xpxGoDxCQI8i",
        "colab_type": "text"
      },
      "source": [
        "### Getting the data from Kaggle"
      ]
    },
    {
      "cell_type": "code",
      "metadata": {
        "id": "PZgzEklXJ3F9",
        "colab_type": "code",
        "outputId": "ea66b37a-7631-4f76-e174-b87421b3d818",
        "colab": {
          "base_uri": "https://localhost:8080/",
          "height": 207
        }
      },
      "source": [
        "import os\n",
        "os.environ['KAGGLE_USERNAME'] = \"inshalkhan\" # username from the json file\n",
        "os.environ['KAGGLE_KEY'] = \"3e4ece6f468180d5bc3b36467a8c3654\" # key from the json file\n",
        "!kaggle competitions download -c dogs-vs-cats # api copied from kaggle"
      ],
      "execution_count": 0,
      "outputs": [
        {
          "output_type": "stream",
          "text": [
            "Warning: Looks like you're using an outdated API Version, please consider updating (server 1.5.6 / client 1.5.4)\n",
            "Downloading sampleSubmission.csv to /content\n",
            "  0% 0.00/86.8k [00:00<?, ?B/s]\n",
            "100% 86.8k/86.8k [00:00<00:00, 77.7MB/s]\n",
            "Downloading test1.zip to /content\n",
            " 98% 266M/271M [00:01<00:00, 162MB/s]\n",
            "100% 271M/271M [00:01<00:00, 160MB/s]\n",
            "Downloading train.zip to /content\n",
            " 98% 533M/543M [00:04<00:00, 55.0MB/s]\n",
            "100% 543M/543M [00:04<00:00, 125MB/s] \n"
          ],
          "name": "stdout"
        }
      ]
    },
    {
      "cell_type": "code",
      "metadata": {
        "id": "WxA8ITz7Ki5d",
        "colab_type": "code",
        "outputId": "47f9d2f0-34e7-43d5-db6a-713af1e8987a",
        "colab": {
          "base_uri": "https://localhost:8080/",
          "height": 34
        }
      },
      "source": [
        "# Upload data\n",
        "from zipfile import ZipFile\n",
        "\n",
        "file_name = \"/content/train.zip\"\n",
        "\n",
        "with ZipFile(file_name, 'r') as zip:\n",
        "  zip.extractall()\n",
        "  print('done')"
      ],
      "execution_count": 0,
      "outputs": [
        {
          "output_type": "stream",
          "text": [
            "done\n"
          ],
          "name": "stdout"
        }
      ]
    },
    {
      "cell_type": "code",
      "metadata": {
        "id": "1dVsZYexKqaB",
        "colab_type": "code",
        "outputId": "5f0acb5b-6853-453a-ccc3-04e495f7e0c7",
        "colab": {
          "base_uri": "https://localhost:8080/",
          "height": 34
        }
      },
      "source": [
        "data_dir_list = os.listdir('/content/train')\n",
        "#print(data_dir_list)\n",
        "\n",
        "path, dirs, files = next(os.walk(\"/content/train\"))\n",
        "file_count = len(files)\n",
        "print(file_count)"
      ],
      "execution_count": 0,
      "outputs": [
        {
          "output_type": "stream",
          "text": [
            "25000\n"
          ],
          "name": "stdout"
        }
      ]
    },
    {
      "cell_type": "code",
      "metadata": {
        "id": "GFMIGJDPKwqp",
        "colab_type": "code",
        "colab": {}
      },
      "source": [
        "original_dataset_dir = '/content/train'\n",
        "base_dir = '/content/cats_and_dogs_small'\n",
        "os.mkdir(base_dir)"
      ],
      "execution_count": 0,
      "outputs": []
    },
    {
      "cell_type": "code",
      "metadata": {
        "id": "GjjGC4j6Kz3B",
        "colab_type": "code",
        "colab": {}
      },
      "source": [
        "train_dir = os.path.join(base_dir, 'train')\n",
        "os.mkdir(train_dir)\n",
        "\n",
        "validation_dir = os.path.join(base_dir, 'validation')\n",
        "os.mkdir(validation_dir)\n",
        "\n",
        "test_dir = os.path.join(base_dir, 'test')\n",
        "os.mkdir(test_dir)\n",
        "\n",
        "train_cats_dir = os.path.join(train_dir, 'cats')\n",
        "os.mkdir(train_cats_dir)\n",
        "\n",
        "train_dogs_dir = os.path.join(train_dir, 'dogs')\n",
        "os.mkdir(train_dogs_dir)\n",
        "\n",
        "validation_cats_dir = os.path.join(validation_dir, 'cats')\n",
        "os.mkdir(validation_cats_dir)\n",
        "\n",
        "validation_dogs_dir = os.path.join(validation_dir, 'dogs')\n",
        "os.mkdir(validation_dogs_dir)\n",
        "\n",
        "test_cats_dir = os.path.join(test_dir, 'cats')\n",
        "os.mkdir(test_cats_dir)\n",
        "\n",
        "test_dogs_dir = os.path.join(test_dir, 'dogs')\n",
        "os.mkdir(test_dogs_dir)"
      ],
      "execution_count": 0,
      "outputs": []
    },
    {
      "cell_type": "code",
      "metadata": {
        "id": "ew6ZSMUNLIYi",
        "colab_type": "code",
        "colab": {}
      },
      "source": [
        "import shutil\n",
        "fnames = ['cat.{}.jpg'.format(i) for i in range(1000)]\n",
        "for fname in fnames:\n",
        "    src = os.path.join(original_dataset_dir, fname)\n",
        "    dst = os.path.join(train_cats_dir, fname)\n",
        "    #print(src,dst)\n",
        "    shutil.copyfile(src, dst)\n",
        "    \n",
        "fnames = ['cat.{}.jpg'.format(i) for i in range(1000, 1500)]\n",
        "for fname in fnames:\n",
        "    src = os.path.join(original_dataset_dir, fname)\n",
        "    dst = os.path.join(validation_cats_dir, fname)\n",
        "    shutil.copyfile(src, dst)\n",
        "\n",
        "fnames = ['cat.{}.jpg'.format(i) for i in range(1500, 2000)]\n",
        "for fname in fnames:\n",
        "    src = os.path.join(original_dataset_dir, fname)\n",
        "    dst = os.path.join(test_cats_dir, fname)\n",
        "    shutil.copyfile(src, dst)\n",
        "    \n",
        "fnames = ['dog.{}.jpg'.format(i) for i in range(1000)]\n",
        "for fname in fnames:\n",
        "    src = os.path.join(original_dataset_dir, fname)\n",
        "    dst = os.path.join(train_dogs_dir, fname)\n",
        "    shutil.copyfile(src, dst)\n",
        "\n",
        "fnames = ['dog.{}.jpg'.format(i) for i in range(1000, 1500)]\n",
        "for fname in fnames:\n",
        "    src = os.path.join(original_dataset_dir, fname)\n",
        "    dst = os.path.join(validation_dogs_dir, fname)\n",
        "    shutil.copyfile(src, dst)\n",
        "\n",
        "fnames = ['dog.{}.jpg'.format(i) for i in range(1500, 2000)]\n",
        "for fname in fnames:\n",
        "    src = os.path.join(original_dataset_dir, fname)\n",
        "    dst = os.path.join(test_dogs_dir, fname)\n",
        "    shutil.copyfile(src, dst)"
      ],
      "execution_count": 0,
      "outputs": []
    },
    {
      "cell_type": "code",
      "metadata": {
        "id": "yjAg0MSMLM1j",
        "colab_type": "code",
        "outputId": "f89fc520-a654-48d4-833b-aae67759d1bf",
        "colab": {
          "base_uri": "https://localhost:8080/",
          "height": 119
        }
      },
      "source": [
        "print('total training cat images:', len(os.listdir(train_cats_dir)))\n",
        "print('total training dog images:', len(os.listdir(train_dogs_dir)))\n",
        "print('total validation cat images:', len(os.listdir(validation_cats_dir)))\n",
        "\n",
        "print('total validation dog images:', len(os.listdir(validation_dogs_dir)))\n",
        "print('total test cat images:', len(os.listdir(test_cats_dir)))\n",
        "print('total test dog images:', len(os.listdir(test_dogs_dir)))"
      ],
      "execution_count": 0,
      "outputs": [
        {
          "output_type": "stream",
          "text": [
            "total training cat images: 1000\n",
            "total training dog images: 1000\n",
            "total validation cat images: 500\n",
            "total validation dog images: 500\n",
            "total test cat images: 500\n",
            "total test dog images: 500\n"
          ],
          "name": "stdout"
        }
      ]
    },
    {
      "cell_type": "markdown",
      "metadata": {
        "id": "azY-vG0bR-DZ",
        "colab_type": "text"
      },
      "source": [
        "### Convolutional Neural Network model"
      ]
    },
    {
      "cell_type": "code",
      "metadata": {
        "id": "_Bfy7JjjLPOD",
        "colab_type": "code",
        "outputId": "51112632-b251-4f65-99a2-72517571c8d9",
        "colab": {
          "base_uri": "https://localhost:8080/",
          "height": 763
        }
      },
      "source": [
        "from keras import layers\n",
        "from keras import models\n",
        "\n",
        "model = models.Sequential()\n",
        "model.add(layers.Conv2D(32, (3, 3), activation='relu', input_shape=(150, 150, 3)))\n",
        "model.add(layers.MaxPooling2D((2, 2)))\n",
        "model.add(layers.Conv2D(64, (3, 3), activation='relu'))\n",
        "model.add(layers.MaxPooling2D((2, 2)))\n",
        "model.add(layers.Conv2D(128, (3, 3), activation='relu'))\n",
        "model.add(layers.MaxPooling2D((2, 2)))\n",
        "model.add(layers.Conv2D(128, (3, 3), activation='relu'))\n",
        "model.add(layers.MaxPooling2D((2, 2)))\n",
        "model.add(layers.Flatten())\n",
        "model.add(layers.Dense(512, activation='relu'))\n",
        "model.add(layers.Dense(1, activation='sigmoid'))\n",
        "model.summary()"
      ],
      "execution_count": 0,
      "outputs": [
        {
          "output_type": "stream",
          "text": [
            "Using TensorFlow backend.\n"
          ],
          "name": "stderr"
        },
        {
          "output_type": "display_data",
          "data": {
            "text/html": [
              "<p style=\"color: red;\">\n",
              "The default version of TensorFlow in Colab will soon switch to TensorFlow 2.x.<br>\n",
              "We recommend you <a href=\"https://www.tensorflow.org/guide/migrate\" target=\"_blank\">upgrade</a> now \n",
              "or ensure your notebook will continue to use TensorFlow 1.x via the <code>%tensorflow_version 1.x</code> magic:\n",
              "<a href=\"https://colab.research.google.com/notebooks/tensorflow_version.ipynb\" target=\"_blank\">more info</a>.</p>\n"
            ],
            "text/plain": [
              "<IPython.core.display.HTML object>"
            ]
          },
          "metadata": {
            "tags": []
          }
        },
        {
          "output_type": "stream",
          "text": [
            "WARNING:tensorflow:From /usr/local/lib/python3.6/dist-packages/keras/backend/tensorflow_backend.py:66: The name tf.get_default_graph is deprecated. Please use tf.compat.v1.get_default_graph instead.\n",
            "\n",
            "WARNING:tensorflow:From /usr/local/lib/python3.6/dist-packages/keras/backend/tensorflow_backend.py:541: The name tf.placeholder is deprecated. Please use tf.compat.v1.placeholder instead.\n",
            "\n",
            "WARNING:tensorflow:From /usr/local/lib/python3.6/dist-packages/keras/backend/tensorflow_backend.py:4432: The name tf.random_uniform is deprecated. Please use tf.random.uniform instead.\n",
            "\n",
            "WARNING:tensorflow:From /usr/local/lib/python3.6/dist-packages/keras/backend/tensorflow_backend.py:4267: The name tf.nn.max_pool is deprecated. Please use tf.nn.max_pool2d instead.\n",
            "\n",
            "Model: \"sequential_1\"\n",
            "_________________________________________________________________\n",
            "Layer (type)                 Output Shape              Param #   \n",
            "=================================================================\n",
            "conv2d_1 (Conv2D)            (None, 148, 148, 32)      896       \n",
            "_________________________________________________________________\n",
            "max_pooling2d_1 (MaxPooling2 (None, 74, 74, 32)        0         \n",
            "_________________________________________________________________\n",
            "conv2d_2 (Conv2D)            (None, 72, 72, 64)        18496     \n",
            "_________________________________________________________________\n",
            "max_pooling2d_2 (MaxPooling2 (None, 36, 36, 64)        0         \n",
            "_________________________________________________________________\n",
            "conv2d_3 (Conv2D)            (None, 34, 34, 128)       73856     \n",
            "_________________________________________________________________\n",
            "max_pooling2d_3 (MaxPooling2 (None, 17, 17, 128)       0         \n",
            "_________________________________________________________________\n",
            "conv2d_4 (Conv2D)            (None, 15, 15, 128)       147584    \n",
            "_________________________________________________________________\n",
            "max_pooling2d_4 (MaxPooling2 (None, 7, 7, 128)         0         \n",
            "_________________________________________________________________\n",
            "flatten_1 (Flatten)          (None, 6272)              0         \n",
            "_________________________________________________________________\n",
            "dense_1 (Dense)              (None, 512)               3211776   \n",
            "_________________________________________________________________\n",
            "dense_2 (Dense)              (None, 1)                 513       \n",
            "=================================================================\n",
            "Total params: 3,453,121\n",
            "Trainable params: 3,453,121\n",
            "Non-trainable params: 0\n",
            "_________________________________________________________________\n"
          ],
          "name": "stdout"
        }
      ]
    },
    {
      "cell_type": "code",
      "metadata": {
        "id": "ccF-c3qaLUVN",
        "colab_type": "code",
        "outputId": "d6b6e597-83cf-486c-ce45-a8c226d60cb0",
        "colab": {
          "base_uri": "https://localhost:8080/",
          "height": 156
        }
      },
      "source": [
        "from keras import optimizers\n",
        "model.compile(loss='binary_crossentropy', \n",
        "              optimizer=optimizers.RMSprop(lr=1e-4),\n",
        "              metrics=['acc'])"
      ],
      "execution_count": 0,
      "outputs": [
        {
          "output_type": "stream",
          "text": [
            "WARNING:tensorflow:From /usr/local/lib/python3.6/dist-packages/keras/optimizers.py:793: The name tf.train.Optimizer is deprecated. Please use tf.compat.v1.train.Optimizer instead.\n",
            "\n",
            "WARNING:tensorflow:From /usr/local/lib/python3.6/dist-packages/keras/backend/tensorflow_backend.py:3657: The name tf.log is deprecated. Please use tf.math.log instead.\n",
            "\n",
            "WARNING:tensorflow:From /usr/local/lib/python3.6/dist-packages/tensorflow_core/python/ops/nn_impl.py:183: where (from tensorflow.python.ops.array_ops) is deprecated and will be removed in a future version.\n",
            "Instructions for updating:\n",
            "Use tf.where in 2.0, which has the same broadcast rule as np.where\n"
          ],
          "name": "stdout"
        }
      ]
    },
    {
      "cell_type": "markdown",
      "metadata": {
        "id": "pR8ozORqSQzH",
        "colab_type": "text"
      },
      "source": [
        "### Decoding the pictures into grid of pixels with proper rescaling"
      ]
    },
    {
      "cell_type": "code",
      "metadata": {
        "id": "sEtGs9JlLXN8",
        "colab_type": "code",
        "outputId": "e036427d-c324-4ae4-da95-91183a5c78ac",
        "colab": {
          "base_uri": "https://localhost:8080/",
          "height": 51
        }
      },
      "source": [
        "from keras.preprocessing.image import ImageDataGenerator\n",
        "\n",
        "train_datagen = ImageDataGenerator(rescale=1./255)\n",
        "test_datagen = ImageDataGenerator(rescale=1./255)\n",
        "\n",
        "train_generator = train_datagen.flow_from_directory(train_dir,\n",
        "                                                    target_size=(150, 150), \n",
        "                                                    batch_size=20,\n",
        "                                                    class_mode='binary')\n",
        "\n",
        "validation_generator = test_datagen.flow_from_directory(validation_dir,\n",
        "                                                        target_size=(150, 150),\n",
        "                                                        batch_size=20,\n",
        "                                                        class_mode='binary')"
      ],
      "execution_count": 0,
      "outputs": [
        {
          "output_type": "stream",
          "text": [
            "Found 2000 images belonging to 2 classes.\n",
            "Found 1000 images belonging to 2 classes.\n"
          ],
          "name": "stdout"
        }
      ]
    },
    {
      "cell_type": "markdown",
      "metadata": {
        "id": "a5rqJcT3Ssyg",
        "colab_type": "text"
      },
      "source": [
        "### Training the model"
      ]
    },
    {
      "cell_type": "code",
      "metadata": {
        "id": "nbAFqw32Ljon",
        "colab_type": "code",
        "outputId": "9cae7ec1-1934-4ace-b496-14a52764d53f",
        "colab": {
          "base_uri": "https://localhost:8080/",
          "height": 1000
        }
      },
      "source": [
        "history = model.fit_generator(train_generator,\n",
        "                              steps_per_epoch=100,\n",
        "                              epochs=30,\n",
        "                              validation_data=validation_generator,\n",
        "                              validation_steps=10)"
      ],
      "execution_count": 0,
      "outputs": [
        {
          "output_type": "stream",
          "text": [
            "WARNING:tensorflow:From /usr/local/lib/python3.6/dist-packages/keras/backend/tensorflow_backend.py:1033: The name tf.assign_add is deprecated. Please use tf.compat.v1.assign_add instead.\n",
            "\n",
            "WARNING:tensorflow:From /usr/local/lib/python3.6/dist-packages/keras/backend/tensorflow_backend.py:1020: The name tf.assign is deprecated. Please use tf.compat.v1.assign instead.\n",
            "\n",
            "WARNING:tensorflow:From /usr/local/lib/python3.6/dist-packages/keras/backend/tensorflow_backend.py:3005: The name tf.Session is deprecated. Please use tf.compat.v1.Session instead.\n",
            "\n",
            "Epoch 1/30\n",
            "WARNING:tensorflow:From /usr/local/lib/python3.6/dist-packages/keras/backend/tensorflow_backend.py:190: The name tf.get_default_session is deprecated. Please use tf.compat.v1.get_default_session instead.\n",
            "\n",
            "WARNING:tensorflow:From /usr/local/lib/python3.6/dist-packages/keras/backend/tensorflow_backend.py:197: The name tf.ConfigProto is deprecated. Please use tf.compat.v1.ConfigProto instead.\n",
            "\n",
            "WARNING:tensorflow:From /usr/local/lib/python3.6/dist-packages/keras/backend/tensorflow_backend.py:207: The name tf.global_variables is deprecated. Please use tf.compat.v1.global_variables instead.\n",
            "\n",
            "WARNING:tensorflow:From /usr/local/lib/python3.6/dist-packages/keras/backend/tensorflow_backend.py:216: The name tf.is_variable_initialized is deprecated. Please use tf.compat.v1.is_variable_initialized instead.\n",
            "\n",
            "WARNING:tensorflow:From /usr/local/lib/python3.6/dist-packages/keras/backend/tensorflow_backend.py:223: The name tf.variables_initializer is deprecated. Please use tf.compat.v1.variables_initializer instead.\n",
            "\n",
            "100/100 [==============================] - 20s 198ms/step - loss: 0.6880 - acc: 0.5255 - val_loss: 0.6670 - val_acc: 0.5600\n",
            "Epoch 2/30\n",
            "100/100 [==============================] - 6s 61ms/step - loss: 0.6484 - acc: 0.6245 - val_loss: 0.6567 - val_acc: 0.5900\n",
            "Epoch 3/30\n",
            "100/100 [==============================] - 6s 62ms/step - loss: 0.6011 - acc: 0.6730 - val_loss: 0.5878 - val_acc: 0.6800\n",
            "Epoch 4/30\n",
            "100/100 [==============================] - 6s 61ms/step - loss: 0.5646 - acc: 0.7075 - val_loss: 0.6291 - val_acc: 0.6550\n",
            "Epoch 5/30\n",
            "100/100 [==============================] - 6s 62ms/step - loss: 0.5314 - acc: 0.7265 - val_loss: 0.6497 - val_acc: 0.6200\n",
            "Epoch 6/30\n",
            "100/100 [==============================] - 6s 63ms/step - loss: 0.4977 - acc: 0.7550 - val_loss: 0.6269 - val_acc: 0.6500\n",
            "Epoch 7/30\n",
            "100/100 [==============================] - 6s 61ms/step - loss: 0.4723 - acc: 0.7685 - val_loss: 0.5587 - val_acc: 0.7100\n",
            "Epoch 8/30\n",
            "100/100 [==============================] - 6s 63ms/step - loss: 0.4428 - acc: 0.7985 - val_loss: 0.6241 - val_acc: 0.6550\n",
            "Epoch 9/30\n",
            "100/100 [==============================] - 6s 60ms/step - loss: 0.4178 - acc: 0.8115 - val_loss: 0.5310 - val_acc: 0.7000\n",
            "Epoch 10/30\n",
            "100/100 [==============================] - 6s 59ms/step - loss: 0.3836 - acc: 0.8300 - val_loss: 0.5795 - val_acc: 0.7100\n",
            "Epoch 11/30\n",
            "100/100 [==============================] - 6s 62ms/step - loss: 0.3612 - acc: 0.8290 - val_loss: 0.6284 - val_acc: 0.7150\n",
            "Epoch 12/30\n",
            "100/100 [==============================] - 6s 60ms/step - loss: 0.3398 - acc: 0.8535 - val_loss: 0.6474 - val_acc: 0.7150\n",
            "Epoch 13/30\n",
            "100/100 [==============================] - 6s 60ms/step - loss: 0.3093 - acc: 0.8710 - val_loss: 0.6688 - val_acc: 0.7050\n",
            "Epoch 14/30\n",
            "100/100 [==============================] - 6s 61ms/step - loss: 0.2879 - acc: 0.8835 - val_loss: 0.5374 - val_acc: 0.7400\n",
            "Epoch 15/30\n",
            "100/100 [==============================] - 6s 61ms/step - loss: 0.2590 - acc: 0.8935 - val_loss: 0.5451 - val_acc: 0.7400\n",
            "Epoch 16/30\n",
            "100/100 [==============================] - 6s 63ms/step - loss: 0.2450 - acc: 0.9105 - val_loss: 0.5660 - val_acc: 0.7300\n",
            "Epoch 17/30\n",
            "100/100 [==============================] - 6s 60ms/step - loss: 0.2156 - acc: 0.9125 - val_loss: 0.6685 - val_acc: 0.7350\n",
            "Epoch 18/30\n",
            "100/100 [==============================] - 6s 61ms/step - loss: 0.1933 - acc: 0.9275 - val_loss: 0.5819 - val_acc: 0.7600\n",
            "Epoch 19/30\n",
            "100/100 [==============================] - 6s 60ms/step - loss: 0.1747 - acc: 0.9370 - val_loss: 0.7701 - val_acc: 0.7150\n",
            "Epoch 20/30\n",
            "100/100 [==============================] - 6s 60ms/step - loss: 0.1584 - acc: 0.9440 - val_loss: 0.7544 - val_acc: 0.7250\n",
            "Epoch 21/30\n",
            "100/100 [==============================] - 6s 60ms/step - loss: 0.1421 - acc: 0.9530 - val_loss: 0.7671 - val_acc: 0.7350\n",
            "Epoch 22/30\n",
            "100/100 [==============================] - 6s 61ms/step - loss: 0.1261 - acc: 0.9575 - val_loss: 0.7844 - val_acc: 0.6950\n",
            "Epoch 23/30\n",
            "100/100 [==============================] - 6s 60ms/step - loss: 0.1054 - acc: 0.9685 - val_loss: 0.7149 - val_acc: 0.7450\n",
            "Epoch 24/30\n",
            "100/100 [==============================] - 6s 60ms/step - loss: 0.1008 - acc: 0.9690 - val_loss: 0.9440 - val_acc: 0.6950\n",
            "Epoch 25/30\n",
            "100/100 [==============================] - 6s 60ms/step - loss: 0.0843 - acc: 0.9740 - val_loss: 0.7169 - val_acc: 0.7700\n",
            "Epoch 26/30\n",
            "100/100 [==============================] - 6s 62ms/step - loss: 0.0681 - acc: 0.9835 - val_loss: 0.9748 - val_acc: 0.7600\n",
            "Epoch 27/30\n",
            "100/100 [==============================] - 6s 61ms/step - loss: 0.0630 - acc: 0.9835 - val_loss: 1.1019 - val_acc: 0.7200\n",
            "Epoch 28/30\n",
            "100/100 [==============================] - 7s 66ms/step - loss: 0.0480 - acc: 0.9895 - val_loss: 1.0858 - val_acc: 0.7250\n",
            "Epoch 29/30\n",
            "100/100 [==============================] - 6s 63ms/step - loss: 0.0499 - acc: 0.9870 - val_loss: 0.8429 - val_acc: 0.7700\n",
            "Epoch 30/30\n",
            "100/100 [==============================] - 6s 59ms/step - loss: 0.0403 - acc: 0.9875 - val_loss: 1.0032 - val_acc: 0.7350\n"
          ],
          "name": "stdout"
        }
      ]
    },
    {
      "cell_type": "code",
      "metadata": {
        "id": "nZiBXg5ZMAXH",
        "colab_type": "code",
        "outputId": "5fbd5935-e024-4611-eceb-421a2fb70d8d",
        "colab": {
          "base_uri": "https://localhost:8080/",
          "height": 545
        }
      },
      "source": [
        "model.save('cats_and_dogs_small_1.h5')\n",
        "\n",
        "import matplotlib.pyplot as plt\n",
        "\n",
        "acc = history.history['acc']\n",
        "val_acc = history.history['val_acc']\n",
        "loss = history.history['loss']\n",
        "val_loss = history.history['val_loss']\n",
        "\n",
        "epochs = range(1, len(acc) + 1)\n",
        "\n",
        "plt.plot(epochs, acc, 'bo', label='Training acc')\n",
        "plt.plot(epochs, val_acc, 'b', label='Validation acc')\n",
        "plt.title('Training and validation accuracy')\n",
        "plt.legend()\n",
        "\n",
        "plt.figure()\n",
        "\n",
        "plt.plot(epochs, loss, 'bo', label='Training loss')\n",
        "plt.plot(epochs, val_loss, 'b', label='Validation loss')\n",
        "plt.title('Training and validation loss')\n",
        "plt.legend()\n",
        "\n",
        "plt.show()"
      ],
      "execution_count": 0,
      "outputs": [
        {
          "output_type": "display_data",
          "data": {
            "image/png": "[encoded data removed]",
            "text/plain": [
              "<Figure size 432x288 with 1 Axes>"
            ]
          },
          "metadata": {
            "tags": []
          }
        },
        {
          "output_type": "display_data",
          "data": {
            "image/png": "[encoded data removed]",
            "text/plain": [
              "<Figure size 432x288 with 1 Axes>"
            ]
          },
          "metadata": {
            "tags": []
          }
        }
      ]
    },
    {
      "cell_type": "markdown",
      "metadata": {
        "id": "8_oLkrBUTb6j",
        "colab_type": "text"
      },
      "source": [
        "### Convolution Layer with Drouput"
      ]
    },
    {
      "cell_type": "code",
      "metadata": {
        "id": "skZJyjHpMDFX",
        "colab_type": "code",
        "outputId": "aae1bb74-cb1e-4c3b-96d9-58a8795bce55",
        "colab": {
          "base_uri": "https://localhost:8080/",
          "height": 122
        }
      },
      "source": [
        "model = models.Sequential()\n",
        "model.add(layers.Conv2D(32, (3, 3), activation='relu',\n",
        "input_shape=(150, 150, 3)))\n",
        "model.add(layers.MaxPooling2D((2, 2)))\n",
        "model.add(layers.Conv2D(64, (3, 3), activation='relu'))\n",
        "model.add(layers.MaxPooling2D((2, 2)))\n",
        "model.add(layers.Conv2D(128, (3, 3), activation='relu'))\n",
        "model.add(layers.MaxPooling2D((2, 2)))\n",
        "model.add(layers.Conv2D(128, (3, 3), activation='relu'))\n",
        "model.add(layers.MaxPooling2D((2, 2)))\n",
        "model.add(layers.Flatten())\n",
        "model.add(layers.Dropout(0.5))\n",
        "model.add(layers.Dense(512, activation='relu'))\n",
        "model.add(layers.Dense(1, activation='sigmoid'))\n",
        "\n",
        "model.compile(loss='binary_crossentropy',\n",
        "              optimizer=optimizers.RMSprop(lr=1e-4),\n",
        "              metrics=['acc'])"
      ],
      "execution_count": 0,
      "outputs": [
        {
          "output_type": "stream",
          "text": [
            "WARNING:tensorflow:From /usr/local/lib/python3.6/dist-packages/keras/backend/tensorflow_backend.py:148: The name tf.placeholder_with_default is deprecated. Please use tf.compat.v1.placeholder_with_default instead.\n",
            "\n",
            "WARNING:tensorflow:From /usr/local/lib/python3.6/dist-packages/keras/backend/tensorflow_backend.py:3733: calling dropout (from tensorflow.python.ops.nn_ops) with keep_prob is deprecated and will be removed in a future version.\n",
            "Instructions for updating:\n",
            "Please use `rate` instead of `keep_prob`. Rate should be set to `rate = 1 - keep_prob`.\n"
          ],
          "name": "stdout"
        }
      ]
    },
    {
      "cell_type": "code",
      "metadata": {
        "id": "FQjF0KgnMGfA",
        "colab_type": "code",
        "outputId": "8407fb78-e2c4-4627-fc86-8ff6dd7c2329",
        "colab": {
          "base_uri": "https://localhost:8080/",
          "height": 751
        }
      },
      "source": [
        "train_datagen = ImageDataGenerator(rescale=1./255,\n",
        "                                   rotation_range=40,\n",
        "                                   width_shift_range=0.2,\n",
        "                                   height_shift_range=0.2,\n",
        "                                   shear_range=0.2,\n",
        "                                   zoom_range=0.2,\n",
        "                                   horizontal_flip=True,)\n",
        "\n",
        "test_datagen = ImageDataGenerator(rescale=1./255)\n",
        "\n",
        "train_generator = train_datagen.flow_from_directory(train_dir,\n",
        "                                                    target_size=(150, 150),\n",
        "                                                    batch_size=32,\n",
        "                                                    class_mode='binary')\n",
        "\n",
        "validation_generator = test_datagen.flow_from_directory(validation_dir,\n",
        "                                                        target_size=(150, 150),\n",
        "                                                        batch_size=32,\n",
        "                                                        class_mode='binary')\n",
        "\n",
        "history = model.fit_generator(train_generator,\n",
        "                              steps_per_epoch=100,\n",
        "                              epochs=20,\n",
        "                              validation_data=validation_generator,\n",
        "                              validation_steps=50)"
      ],
      "execution_count": 0,
      "outputs": [
        {
          "output_type": "stream",
          "text": [
            "Found 2000 images belonging to 2 classes.\n",
            "Found 1000 images belonging to 2 classes.\n",
            "Epoch 1/20\n",
            "100/100 [==============================] - 28s 276ms/step - loss: 0.6939 - acc: 0.5203 - val_loss: 0.6837 - val_acc: 0.5057\n",
            "Epoch 2/20\n",
            "100/100 [==============================] - 26s 262ms/step - loss: 0.6780 - acc: 0.5613 - val_loss: 0.6689 - val_acc: 0.5818\n",
            "Epoch 3/20\n",
            "100/100 [==============================] - 26s 262ms/step - loss: 0.6628 - acc: 0.6006 - val_loss: 0.6393 - val_acc: 0.6269\n",
            "Epoch 4/20\n",
            "100/100 [==============================] - 27s 270ms/step - loss: 0.6361 - acc: 0.6291 - val_loss: 0.6363 - val_acc: 0.6205\n",
            "Epoch 5/20\n",
            "100/100 [==============================] - 25s 246ms/step - loss: 0.6282 - acc: 0.6394 - val_loss: 0.5901 - val_acc: 0.6808\n",
            "Epoch 6/20\n",
            "100/100 [==============================] - 27s 272ms/step - loss: 0.6099 - acc: 0.6669 - val_loss: 0.5999 - val_acc: 0.6675\n",
            "Epoch 7/20\n",
            "100/100 [==============================] - 25s 252ms/step - loss: 0.6031 - acc: 0.6709 - val_loss: 0.5721 - val_acc: 0.6834\n",
            "Epoch 8/20\n",
            "100/100 [==============================] - 25s 254ms/step - loss: 0.6029 - acc: 0.6669 - val_loss: 0.5755 - val_acc: 0.6933\n",
            "Epoch 9/20\n",
            "100/100 [==============================] - 25s 254ms/step - loss: 0.5964 - acc: 0.6762 - val_loss: 0.5824 - val_acc: 0.6920\n",
            "Epoch 10/20\n",
            "100/100 [==============================] - 25s 248ms/step - loss: 0.5806 - acc: 0.6956 - val_loss: 0.5635 - val_acc: 0.6916\n",
            "Epoch 11/20\n",
            "100/100 [==============================] - 26s 260ms/step - loss: 0.5685 - acc: 0.6969 - val_loss: 0.7696 - val_acc: 0.6108\n",
            "Epoch 12/20\n",
            "100/100 [==============================] - 26s 256ms/step - loss: 0.5698 - acc: 0.7019 - val_loss: 0.5966 - val_acc: 0.6853\n",
            "Epoch 13/20\n",
            "100/100 [==============================] - 26s 258ms/step - loss: 0.5640 - acc: 0.7103 - val_loss: 0.5644 - val_acc: 0.6959\n",
            "Epoch 14/20\n",
            "100/100 [==============================] - 26s 260ms/step - loss: 0.5634 - acc: 0.7009 - val_loss: 0.5476 - val_acc: 0.7056\n",
            "Epoch 15/20\n",
            "100/100 [==============================] - 26s 261ms/step - loss: 0.5593 - acc: 0.7122 - val_loss: 0.5436 - val_acc: 0.7146\n",
            "Epoch 16/20\n",
            "100/100 [==============================] - 25s 254ms/step - loss: 0.5462 - acc: 0.7106 - val_loss: 0.5134 - val_acc: 0.7481\n",
            "Epoch 17/20\n",
            "100/100 [==============================] - 24s 238ms/step - loss: 0.5353 - acc: 0.7256 - val_loss: 0.5263 - val_acc: 0.7259\n",
            "Epoch 18/20\n",
            "100/100 [==============================] - 28s 275ms/step - loss: 0.5497 - acc: 0.7178 - val_loss: 0.5110 - val_acc: 0.7442\n",
            "Epoch 19/20\n",
            "100/100 [==============================] - 25s 254ms/step - loss: 0.5381 - acc: 0.7209 - val_loss: 0.6207 - val_acc: 0.6821\n",
            "Epoch 20/20\n",
            "100/100 [==============================] - 25s 254ms/step - loss: 0.5341 - acc: 0.7316 - val_loss: 0.5658 - val_acc: 0.6888\n"
          ],
          "name": "stdout"
        }
      ]
    }
  ]
}